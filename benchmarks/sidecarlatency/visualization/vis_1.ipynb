{
 "cells": [
  {
   "cell_type": "code",
   "execution_count": 2,
   "metadata": {},
   "outputs": [],
   "source": [
    "import pandas as pd\n",
    "import seaborn as sns\n",
    "import matplotlib.pyplot as plt"
   ]
  },
  {
   "cell_type": "code",
   "execution_count": 3,
   "metadata": {},
   "outputs": [],
   "source": [
    "def readFileAsArr(fileName, source):\n",
    "    res = []\n",
    "    file = open('./data/1ms/' + fileName, encoding=\"utf8\").read()\n",
    "    for ind, line in enumerate(file.split('\\n')):\n",
    "        if ind < 100:\n",
    "            continue\n",
    "        if line == '':\n",
    "            continue\n",
    "        splitLine = line.split(\",\")\n",
    "        res.append([source, splitLine[0], splitLine[1], float(splitLine[2])])\n",
    "    return res\n",
    "\n",
    "latencies = readFileAsArr('plumber.txt', 'Plumber')\n",
    "latencies = latencies + readFileAsArr('baseline.txt', 'Baseline')\n",
    "latencies = latencies + readFileAsArr('dapr.txt', 'Dapr')"
   ]
  },
  {
   "cell_type": "code",
   "execution_count": 4,
   "metadata": {},
   "outputs": [],
   "source": [
    "df = pd.DataFrame(latencies, columns=['Platform', 'Begin nano', 'End nano', 'Latency (ms)'])"
   ]
  },
  {
   "cell_type": "code",
   "execution_count": 5,
   "metadata": {},
   "outputs": [
    {
     "data": {
      "text/html": [
       "<div>\n",
       "<style scoped>\n",
       "    .dataframe tbody tr th:only-of-type {\n",
       "        vertical-align: middle;\n",
       "    }\n",
       "\n",
       "    .dataframe tbody tr th {\n",
       "        vertical-align: top;\n",
       "    }\n",
       "\n",
       "    .dataframe thead tr th {\n",
       "        text-align: left;\n",
       "    }\n",
       "\n",
       "    .dataframe thead tr:last-of-type th {\n",
       "        text-align: right;\n",
       "    }\n",
       "</style>\n",
       "<table border=\"1\" class=\"dataframe\">\n",
       "  <thead>\n",
       "    <tr>\n",
       "      <th></th>\n",
       "      <th colspan=\"8\" halign=\"left\">Latency (ms)</th>\n",
       "    </tr>\n",
       "    <tr>\n",
       "      <th></th>\n",
       "      <th>count</th>\n",
       "      <th>mean</th>\n",
       "      <th>std</th>\n",
       "      <th>min</th>\n",
       "      <th>25%</th>\n",
       "      <th>50%</th>\n",
       "      <th>75%</th>\n",
       "      <th>max</th>\n",
       "    </tr>\n",
       "    <tr>\n",
       "      <th>Platform</th>\n",
       "      <th></th>\n",
       "      <th></th>\n",
       "      <th></th>\n",
       "      <th></th>\n",
       "      <th></th>\n",
       "      <th></th>\n",
       "      <th></th>\n",
       "      <th></th>\n",
       "    </tr>\n",
       "  </thead>\n",
       "  <tbody>\n",
       "    <tr>\n",
       "      <th>Baseline</th>\n",
       "      <td>77574.0</td>\n",
       "      <td>1.620901</td>\n",
       "      <td>1.375973</td>\n",
       "      <td>0.950812</td>\n",
       "      <td>1.414855</td>\n",
       "      <td>1.522892</td>\n",
       "      <td>1.646501</td>\n",
       "      <td>62.830099</td>\n",
       "    </tr>\n",
       "    <tr>\n",
       "      <th>Dapr</th>\n",
       "      <td>77574.0</td>\n",
       "      <td>1.708796</td>\n",
       "      <td>1.483242</td>\n",
       "      <td>1.093483</td>\n",
       "      <td>1.478202</td>\n",
       "      <td>1.580839</td>\n",
       "      <td>1.699582</td>\n",
       "      <td>63.316462</td>\n",
       "    </tr>\n",
       "    <tr>\n",
       "      <th>Plumber</th>\n",
       "      <td>77574.0</td>\n",
       "      <td>1.939413</td>\n",
       "      <td>1.493663</td>\n",
       "      <td>1.226340</td>\n",
       "      <td>1.703793</td>\n",
       "      <td>1.811146</td>\n",
       "      <td>1.937261</td>\n",
       "      <td>63.425133</td>\n",
       "    </tr>\n",
       "  </tbody>\n",
       "</table>\n",
       "</div>"
      ],
      "text/plain": [
       "         Latency (ms)                                                    \\\n",
       "                count      mean       std       min       25%       50%   \n",
       "Platform                                                                  \n",
       "Baseline      77574.0  1.620901  1.375973  0.950812  1.414855  1.522892   \n",
       "Dapr          77574.0  1.708796  1.483242  1.093483  1.478202  1.580839   \n",
       "Plumber       77574.0  1.939413  1.493663  1.226340  1.703793  1.811146   \n",
       "\n",
       "                               \n",
       "               75%        max  \n",
       "Platform                       \n",
       "Baseline  1.646501  62.830099  \n",
       "Dapr      1.699582  63.316462  \n",
       "Plumber   1.937261  63.425133  "
      ]
     },
     "execution_count": 5,
     "metadata": {},
     "output_type": "execute_result"
    }
   ],
   "source": [
    "df.groupby([\"Platform\"]).describe()\n"
   ]
  },
  {
   "cell_type": "code",
   "execution_count": 6,
   "metadata": {},
   "outputs": [
    {
     "data": {
      "text/html": [
       "<div>\n",
       "<style scoped>\n",
       "    .dataframe tbody tr th:only-of-type {\n",
       "        vertical-align: middle;\n",
       "    }\n",
       "\n",
       "    .dataframe tbody tr th {\n",
       "        vertical-align: top;\n",
       "    }\n",
       "\n",
       "    .dataframe thead th {\n",
       "        text-align: right;\n",
       "    }\n",
       "</style>\n",
       "<table border=\"1\" class=\"dataframe\">\n",
       "  <thead>\n",
       "    <tr style=\"text-align: right;\">\n",
       "      <th></th>\n",
       "      <th>Platform</th>\n",
       "      <th>Begin nano</th>\n",
       "      <th>End nano</th>\n",
       "      <th>Latency (ms)</th>\n",
       "    </tr>\n",
       "  </thead>\n",
       "  <tbody>\n",
       "    <tr>\n",
       "      <th>0</th>\n",
       "      <td>Plumber</td>\n",
       "      <td>1630065527318417656</td>\n",
       "      <td>1630065527343591782</td>\n",
       "      <td>25.174126</td>\n",
       "    </tr>\n",
       "    <tr>\n",
       "      <th>1</th>\n",
       "      <td>Plumber</td>\n",
       "      <td>1630065527319936683</td>\n",
       "      <td>1630065527344352011</td>\n",
       "      <td>24.415328</td>\n",
       "    </tr>\n",
       "    <tr>\n",
       "      <th>2</th>\n",
       "      <td>Plumber</td>\n",
       "      <td>1630065527321479674</td>\n",
       "      <td>1630065527345238471</td>\n",
       "      <td>23.758797</td>\n",
       "    </tr>\n",
       "    <tr>\n",
       "      <th>3</th>\n",
       "      <td>Plumber</td>\n",
       "      <td>1630065527323137906</td>\n",
       "      <td>1630065527346070416</td>\n",
       "      <td>22.932510</td>\n",
       "    </tr>\n",
       "    <tr>\n",
       "      <th>4</th>\n",
       "      <td>Plumber</td>\n",
       "      <td>1630065527324697190</td>\n",
       "      <td>1630065527346693858</td>\n",
       "      <td>21.996668</td>\n",
       "    </tr>\n",
       "  </tbody>\n",
       "</table>\n",
       "</div>"
      ],
      "text/plain": [
       "  Platform           Begin nano             End nano  Latency (ms)\n",
       "0  Plumber  1630065527318417656  1630065527343591782     25.174126\n",
       "1  Plumber  1630065527319936683  1630065527344352011     24.415328\n",
       "2  Plumber  1630065527321479674  1630065527345238471     23.758797\n",
       "3  Plumber  1630065527323137906  1630065527346070416     22.932510\n",
       "4  Plumber  1630065527324697190  1630065527346693858     21.996668"
      ]
     },
     "execution_count": 6,
     "metadata": {},
     "output_type": "execute_result"
    }
   ],
   "source": [
    "df.head()"
   ]
  },
  {
   "cell_type": "code",
   "execution_count": 7,
   "metadata": {},
   "outputs": [
    {
     "data": {
      "text/plain": [
       "<seaborn.axisgrid.FacetGrid at 0x7f6ba23080a0>"
      ]
     },
     "execution_count": 7,
     "metadata": {},
     "output_type": "execute_result"
    },
    {
     "data": {
      "image/png": "[encoded data removed]",
      "text/plain": [
       "<Figure size 438.625x360 with 1 Axes>"
      ]
     },
     "metadata": {
      "needs_background": "light"
     },
     "output_type": "display_data"
    }
   ],
   "source": [
    "sns.displot(df, x=\"Latency (ms)\", hue=\"Platform\", kind=\"kde\", fill=True)"
   ]
  },
  {
   "cell_type": "code",
   "execution_count": 8,
   "metadata": {},
   "outputs": [
    {
     "data": {
      "text/html": [
       "<div>\n",
       "<style scoped>\n",
       "    .dataframe tbody tr th:only-of-type {\n",
       "        vertical-align: middle;\n",
       "    }\n",
       "\n",
       "    .dataframe tbody tr th {\n",
       "        vertical-align: top;\n",
       "    }\n",
       "\n",
       "    .dataframe thead th {\n",
       "        text-align: right;\n",
       "    }\n",
       "</style>\n",
       "<table border=\"1\" class=\"dataframe\">\n",
       "  <thead>\n",
       "    <tr style=\"text-align: right;\">\n",
       "      <th></th>\n",
       "      <th>Latency (ms)</th>\n",
       "    </tr>\n",
       "  </thead>\n",
       "  <tbody>\n",
       "    <tr>\n",
       "      <th>count</th>\n",
       "      <td>232722.000000</td>\n",
       "    </tr>\n",
       "    <tr>\n",
       "      <th>mean</th>\n",
       "      <td>1.756370</td>\n",
       "    </tr>\n",
       "    <tr>\n",
       "      <th>std</th>\n",
       "      <td>1.458127</td>\n",
       "    </tr>\n",
       "    <tr>\n",
       "      <th>min</th>\n",
       "      <td>0.950812</td>\n",
       "    </tr>\n",
       "    <tr>\n",
       "      <th>25%</th>\n",
       "      <td>1.497555</td>\n",
       "    </tr>\n",
       "    <tr>\n",
       "      <th>50%</th>\n",
       "      <td>1.637441</td>\n",
       "    </tr>\n",
       "    <tr>\n",
       "      <th>75%</th>\n",
       "      <td>1.797344</td>\n",
       "    </tr>\n",
       "    <tr>\n",
       "      <th>max</th>\n",
       "      <td>63.425133</td>\n",
       "    </tr>\n",
       "  </tbody>\n",
       "</table>\n",
       "</div>"
      ],
      "text/plain": [
       "        Latency (ms)\n",
       "count  232722.000000\n",
       "mean        1.756370\n",
       "std         1.458127\n",
       "min         0.950812\n",
       "25%         1.497555\n",
       "50%         1.637441\n",
       "75%         1.797344\n",
       "max        63.425133"
      ]
     },
     "execution_count": 8,
     "metadata": {},
     "output_type": "execute_result"
    }
   ],
   "source": [
    "df.describe()"
   ]
  },
  {
   "cell_type": "code",
   "execution_count": 9,
   "metadata": {},
   "outputs": [
    {
     "data": {
      "text/plain": [
       "<AxesSubplot:xlabel='Platform', ylabel='Latency (ms)'>"
      ]
     },
     "execution_count": 9,
     "metadata": {},
     "output_type": "execute_result"
    },
    {
     "data": {
      "image/png": "[encoded data removed]",
      "text/plain": [
       "<Figure size 432x288 with 1 Axes>"
      ]
     },
     "metadata": {
      "needs_background": "light"
     },
     "output_type": "display_data"
    }
   ],
   "source": [
    "sns.boxplot(data=df, x=\"Platform\", y=\"Latency (ms)\")"
   ]
  },
  {
   "cell_type": "code",
   "execution_count": 10,
   "metadata": {},
   "outputs": [
    {
     "data": {
      "text/plain": [
       "<seaborn.axisgrid.FacetGrid at 0x7f6bebe58130>"
      ]
     },
     "execution_count": 10,
     "metadata": {},
     "output_type": "execute_result"
    },
    {
     "data": {
      "image/png": "[encoded data removed]",
      "text/plain": [
       "<Figure size 438.625x360 with 1 Axes>"
      ]
     },
     "metadata": {
      "needs_background": "light"
     },
     "output_type": "display_data"
    }
   ],
   "source": [
    "sns.displot(df, x=\"Latency (ms)\", hue=\"Platform\", kind=\"kde\", fill=True, log_scale=True)"
   ]
  },
  {
   "cell_type": "code",
   "execution_count": 11,
   "metadata": {},
   "outputs": [
    {
     "data": {
      "text/plain": [
       "<AxesSubplot:xlabel='Latency (ms)', ylabel='Proportion'>"
      ]
     },
     "execution_count": 11,
     "metadata": {},
     "output_type": "execute_result"
    },
    {
     "data": {
      "image/png": "[encoded data removed]",
      "text/plain": [
       "<Figure size 432x288 with 1 Axes>"
      ]
     },
     "metadata": {
      "needs_background": "light"
     },
     "output_type": "display_data"
    }
   ],
   "source": [
    "sns.ecdfplot(data=df, x=\"Latency (ms)\", hue=\"Platform\", log_scale=True)"
   ]
  },
  {
   "cell_type": "code",
   "execution_count": 12,
   "metadata": {},
   "outputs": [
    {
     "data": {
      "text/plain": [
       "(232722, 4)"
      ]
     },
     "execution_count": 12,
     "metadata": {},
     "output_type": "execute_result"
    }
   ],
   "source": [
    "df.shape"
   ]
  },
  {
   "cell_type": "code",
   "execution_count": 13,
   "metadata": {},
   "outputs": [
    {
     "name": "stdout",
     "output_type": "stream",
     "text": [
      "Plumber\n",
      "(77574, 4)\n",
      "(74178, 4)\n",
      "Baseline\n",
      "(77574, 4)\n",
      "(75405, 4)\n",
      "Dapr\n",
      "(77574, 4)\n",
      "(74302, 4)\n"
     ]
    },
    {
     "name": "stderr",
     "output_type": "stream",
     "text": [
      "<ipython-input-13-cb4ad0cf4b78>:10: UserWarning: Boolean Series key will be reindexed to match DataFrame index.\n",
      "  df_plat = df_plat[~((df[\"Latency (ms)\"] < (q1 - 1.5 * iqr)) | (df[\"Latency (ms)\"] > (q3 + 1.5 * iqr)))].reset_index(drop=True)\n",
      "<ipython-input-13-cb4ad0cf4b78>:10: UserWarning: Boolean Series key will be reindexed to match DataFrame index.\n",
      "  df_plat = df_plat[~((df[\"Latency (ms)\"] < (q1 - 1.5 * iqr)) | (df[\"Latency (ms)\"] > (q3 + 1.5 * iqr)))].reset_index(drop=True)\n",
      "<ipython-input-13-cb4ad0cf4b78>:10: UserWarning: Boolean Series key will be reindexed to match DataFrame index.\n",
      "  df_plat = df_plat[~((df[\"Latency (ms)\"] < (q1 - 1.5 * iqr)) | (df[\"Latency (ms)\"] > (q3 + 1.5 * iqr)))].reset_index(drop=True)\n"
     ]
    }
   ],
   "source": [
    "# Obvious issue with outliers for visualizations: remove them through IQR method\n",
    "plat_dfs = []\n",
    "for plat in df[\"Platform\"].unique():\n",
    "    print(plat)\n",
    "    df_plat = df[df[\"Platform\"] == plat]\n",
    "    q1 = df_plat.quantile(0.25)[\"Latency (ms)\"]\n",
    "    q3 = df_plat.quantile(0.75)[\"Latency (ms)\"]\n",
    "    iqr = q3 - q1\n",
    "    print(df_plat.shape)\n",
    "    df_plat = df_plat[~((df[\"Latency (ms)\"] < (q1 - 1.5 * iqr)) | (df[\"Latency (ms)\"] > (q3 + 1.5 * iqr)))].reset_index(drop=True)\n",
    "    print(df_plat.shape)\n",
    "    plat_dfs.append(df_plat)\n",
    "\n",
    "filtered_df = pd.concat(plat_dfs)\n"
   ]
  },
  {
   "cell_type": "code",
   "execution_count": 14,
   "metadata": {},
   "outputs": [
    {
     "data": {
      "text/html": [
       "<div>\n",
       "<style scoped>\n",
       "    .dataframe tbody tr th:only-of-type {\n",
       "        vertical-align: middle;\n",
       "    }\n",
       "\n",
       "    .dataframe tbody tr th {\n",
       "        vertical-align: top;\n",
       "    }\n",
       "\n",
       "    .dataframe thead tr th {\n",
       "        text-align: left;\n",
       "    }\n",
       "\n",
       "    .dataframe thead tr:last-of-type th {\n",
       "        text-align: right;\n",
       "    }\n",
       "</style>\n",
       "<table border=\"1\" class=\"dataframe\">\n",
       "  <thead>\n",
       "    <tr>\n",
       "      <th></th>\n",
       "      <th colspan=\"8\" halign=\"left\">Latency (ms)</th>\n",
       "    </tr>\n",
       "    <tr>\n",
       "      <th></th>\n",
       "      <th>count</th>\n",
       "      <th>mean</th>\n",
       "      <th>std</th>\n",
       "      <th>min</th>\n",
       "      <th>25%</th>\n",
       "      <th>50%</th>\n",
       "      <th>75%</th>\n",
       "      <th>max</th>\n",
       "    </tr>\n",
       "    <tr>\n",
       "      <th>Platform</th>\n",
       "      <th></th>\n",
       "      <th></th>\n",
       "      <th></th>\n",
       "      <th></th>\n",
       "      <th></th>\n",
       "      <th></th>\n",
       "      <th></th>\n",
       "      <th></th>\n",
       "    </tr>\n",
       "  </thead>\n",
       "  <tbody>\n",
       "    <tr>\n",
       "      <th>Baseline</th>\n",
       "      <td>75405.0</td>\n",
       "      <td>1.527363</td>\n",
       "      <td>0.162303</td>\n",
       "      <td>1.068256</td>\n",
       "      <td>1.411772</td>\n",
       "      <td>1.516789</td>\n",
       "      <td>1.634433</td>\n",
       "      <td>1.993892</td>\n",
       "    </tr>\n",
       "    <tr>\n",
       "      <th>Dapr</th>\n",
       "      <td>74302.0</td>\n",
       "      <td>1.582250</td>\n",
       "      <td>0.153810</td>\n",
       "      <td>1.146296</td>\n",
       "      <td>1.473291</td>\n",
       "      <td>1.572533</td>\n",
       "      <td>1.681100</td>\n",
       "      <td>2.031370</td>\n",
       "    </tr>\n",
       "    <tr>\n",
       "      <th>Plumber</th>\n",
       "      <td>74178.0</td>\n",
       "      <td>1.812746</td>\n",
       "      <td>0.164308</td>\n",
       "      <td>1.355570</td>\n",
       "      <td>1.698558</td>\n",
       "      <td>1.801739</td>\n",
       "      <td>1.917339</td>\n",
       "      <td>2.287440</td>\n",
       "    </tr>\n",
       "  </tbody>\n",
       "</table>\n",
       "</div>"
      ],
      "text/plain": [
       "         Latency (ms)                                                    \\\n",
       "                count      mean       std       min       25%       50%   \n",
       "Platform                                                                  \n",
       "Baseline      75405.0  1.527363  0.162303  1.068256  1.411772  1.516789   \n",
       "Dapr          74302.0  1.582250  0.153810  1.146296  1.473291  1.572533   \n",
       "Plumber       74178.0  1.812746  0.164308  1.355570  1.698558  1.801739   \n",
       "\n",
       "                              \n",
       "               75%       max  \n",
       "Platform                      \n",
       "Baseline  1.634433  1.993892  \n",
       "Dapr      1.681100  2.031370  \n",
       "Plumber   1.917339  2.287440  "
      ]
     },
     "execution_count": 14,
     "metadata": {},
     "output_type": "execute_result"
    }
   ],
   "source": [
    "filtered_df.groupby([\"Platform\"]).describe()"
   ]
  },
  {
   "cell_type": "code",
   "execution_count": 15,
   "metadata": {},
   "outputs": [],
   "source": [
    "# preprocessing for catplot\n",
    "df_metrics = pd.DataFrame(columns=[\"Metric\", \"Platform\", \"Latency (ms)\"])\n",
    "for plat in df[\"Platform\"].unique():\n",
    "    plat_df = df[df[\"Platform\"] == plat]\n",
    "    df_metrics = df_metrics.append({\"Metric\": \"Median\", \"Platform\": plat, \"Latency (ms)\": plat_df.quantile(0.5)[\"Latency (ms)\"]}, ignore_index=True) \n",
    "    df_metrics = df_metrics.append({\"Metric\": \"90th Percentile\", \"Platform\": plat, \"Latency (ms)\": plat_df.quantile(0.9)[\"Latency (ms)\"]}, ignore_index=True) \n",
    "    df_metrics = df_metrics.append({\"Metric\": \"99th Percentile\", \"Platform\": plat, \"Latency (ms)\": plat_df.quantile(0.99)[\"Latency (ms)\"]}, ignore_index=True) "
   ]
  },
  {
   "cell_type": "code",
   "execution_count": 16,
   "metadata": {},
   "outputs": [
    {
     "data": {
      "image/png": "[encoded data removed]",
      "text/plain": [
       "<Figure size 1080x576 with 3 Axes>"
      ]
     },
     "metadata": {
      "needs_background": "light"
     },
     "output_type": "display_data"
    }
   ],
   "source": [
    "\n",
    "f, axes = plt.subplots(1, 3, figsize=(15,8))\n",
    "h_order = [\"Baseline\", \"Dapr\", \"Plumber\"]\n",
    "sns.kdeplot(data=filtered_df, x=\"Latency (ms)\", hue=\"Platform\", fill=True, ax=axes[0], hue_order=h_order)\n",
    "sns.ecdfplot(data=filtered_df, x=\"Latency (ms)\", hue=\"Platform\", ax=axes[1], hue_order=h_order)\n",
    "sns.barplot(\n",
    "    data=df_metrics,\n",
    "    x=\"Metric\", y=\"Latency (ms)\", hue=\"Platform\",\n",
    "    hue_order=h_order,\n",
    "    ax = axes[2]\n",
    ")\n",
    "\n",
    "axes[0].title.set_text('Latency distributions (kde, outliers filtered)')\n",
    "axes[1].title.set_text('Latency distributions (ecdf, outliers filtered)')\n",
    "axes[2].title.set_text('Significant latency percentiles (outliers not filtered)')\n",
    "\n",
    "\n",
    "def add_value_labels(ax, spacing=3):\n",
    "    \"\"\"Add labels to the end of each bar in a bar chart.\n",
    "\n",
    "    Arguments:\n",
    "        ax (matplotlib.axes.Axes): The matplotlib object containing the axes\n",
    "            of the plot to annotate.\n",
    "        spacing (int): The distance between the labels and the bars.\n",
    "    \"\"\"\n",
    "\n",
    "    # For each bar: Place a label\n",
    "    for rect in ax.patches:\n",
    "        # Get X and Y placement of label from rect.\n",
    "        y_value = rect.get_height()\n",
    "        x_value = rect.get_x() + rect.get_width() / 2\n",
    "\n",
    "        # Number of points between bar and label. Change to your liking.\n",
    "        space = spacing\n",
    "        # Vertical alignment for positive values\n",
    "        va = 'bottom'\n",
    "\n",
    "        # If value of bar is negative: Place label below bar\n",
    "        if y_value < 0:\n",
    "            # Invert space to place label below\n",
    "            space *= -1\n",
    "            # Vertically align label at top\n",
    "            va = 'top'\n",
    "\n",
    "        # Use Y value as label and format number with one decimal place\n",
    "        label = \"{:.2f}\".format(y_value)\n",
    "\n",
    "        # Create annotation\n",
    "        ax.annotate(\n",
    "            label,                      # Use `label` as label\n",
    "            (x_value, y_value),         # Place label at end of the bar\n",
    "            xytext=(0, space),          # Vertically shift label by `space`\n",
    "            textcoords=\"offset points\", # Interpret `xytext` as offset in points\n",
    "            ha='center',                # Horizontally center label\n",
    "            va=va)                      # Vertically align label differently for\n",
    "                                        # positive and negative values.\n",
    "\n",
    "\n",
    "# Call the function above. All the magic happens there.\n",
    "add_value_labels(axes[2])\n"
   ]
  },
  {
   "cell_type": "code",
   "execution_count": 17,
   "metadata": {},
   "outputs": [
    {
     "data": {
      "text/plain": [
       "628.3284448616383"
      ]
     },
     "execution_count": 17,
     "metadata": {},
     "output_type": "execute_result"
    }
   ],
   "source": [
    "# calc throughput\n",
    "df = df.astype({'Begin nano': 'int64'})\n",
    "delta_s = (df[\"Begin nano\"].max() - df[\"Begin nano\"].min()) / 1_000_000_000\n",
    "tot_messages = len(df.index) / 3\n",
    "tot_messages / delta_s"
   ]
  },
  {
   "cell_type": "code",
   "execution_count": 18,
   "metadata": {},
   "outputs": [
    {
     "data": {
      "text/html": [
       "<div>\n",
       "<style scoped>\n",
       "    .dataframe tbody tr th:only-of-type {\n",
       "        vertical-align: middle;\n",
       "    }\n",
       "\n",
       "    .dataframe tbody tr th {\n",
       "        vertical-align: top;\n",
       "    }\n",
       "\n",
       "    .dataframe thead th {\n",
       "        text-align: right;\n",
       "    }\n",
       "</style>\n",
       "<table border=\"1\" class=\"dataframe\">\n",
       "  <thead>\n",
       "    <tr style=\"text-align: right;\">\n",
       "      <th></th>\n",
       "      <th>Begin nano</th>\n",
       "      <th>Latency (ms)</th>\n",
       "    </tr>\n",
       "    <tr>\n",
       "      <th>Platform</th>\n",
       "      <th></th>\n",
       "      <th></th>\n",
       "    </tr>\n",
       "  </thead>\n",
       "  <tbody>\n",
       "    <tr>\n",
       "      <th>Baseline</th>\n",
       "      <td>1.278741e+08</td>\n",
       "      <td>0.004940</td>\n",
       "    </tr>\n",
       "    <tr>\n",
       "      <th>Dapr</th>\n",
       "      <td>1.278741e+08</td>\n",
       "      <td>0.005325</td>\n",
       "    </tr>\n",
       "    <tr>\n",
       "      <th>Plumber</th>\n",
       "      <td>1.278741e+08</td>\n",
       "      <td>0.005363</td>\n",
       "    </tr>\n",
       "  </tbody>\n",
       "</table>\n",
       "</div>"
      ],
      "text/plain": [
       "            Begin nano  Latency (ms)\n",
       "Platform                            \n",
       "Baseline  1.278741e+08      0.004940\n",
       "Dapr      1.278741e+08      0.005325\n",
       "Plumber   1.278741e+08      0.005363"
      ]
     },
     "execution_count": 18,
     "metadata": {},
     "output_type": "execute_result"
    }
   ],
   "source": [
    "df.groupby([\"Platform\"]).sem()"
   ]
  },
  {
   "cell_type": "code",
   "execution_count": 38,
   "metadata": {},
   "outputs": [
    {
     "data": {
      "text/html": [
       "<div>\n",
       "<style scoped>\n",
       "    .dataframe tbody tr th:only-of-type {\n",
       "        vertical-align: middle;\n",
       "    }\n",
       "\n",
       "    .dataframe tbody tr th {\n",
       "        vertical-align: top;\n",
       "    }\n",
       "\n",
       "    .dataframe thead tr th {\n",
       "        text-align: left;\n",
       "    }\n",
       "\n",
       "    .dataframe thead tr:last-of-type th {\n",
       "        text-align: right;\n",
       "    }\n",
       "</style>\n",
       "<table border=\"1\" class=\"dataframe\">\n",
       "  <thead>\n",
       "    <tr>\n",
       "      <th></th>\n",
       "      <th colspan=\"8\" halign=\"left\">Begin nano</th>\n",
       "      <th colspan=\"8\" halign=\"left\">Latency (ms)</th>\n",
       "    </tr>\n",
       "    <tr>\n",
       "      <th></th>\n",
       "      <th>count</th>\n",
       "      <th>mean</th>\n",
       "      <th>std</th>\n",
       "      <th>min</th>\n",
       "      <th>25%</th>\n",
       "      <th>50%</th>\n",
       "      <th>75%</th>\n",
       "      <th>max</th>\n",
       "      <th>count</th>\n",
       "      <th>mean</th>\n",
       "      <th>std</th>\n",
       "      <th>min</th>\n",
       "      <th>25%</th>\n",
       "      <th>50%</th>\n",
       "      <th>75%</th>\n",
       "      <th>max</th>\n",
       "    </tr>\n",
       "    <tr>\n",
       "      <th>Platform</th>\n",
       "      <th></th>\n",
       "      <th></th>\n",
       "      <th></th>\n",
       "      <th></th>\n",
       "      <th></th>\n",
       "      <th></th>\n",
       "      <th></th>\n",
       "      <th></th>\n",
       "      <th></th>\n",
       "      <th></th>\n",
       "      <th></th>\n",
       "      <th></th>\n",
       "      <th></th>\n",
       "      <th></th>\n",
       "      <th></th>\n",
       "      <th></th>\n",
       "    </tr>\n",
       "  </thead>\n",
       "  <tbody>\n",
       "    <tr>\n",
       "      <th>Baseline</th>\n",
       "      <td>77574.0</td>\n",
       "      <td>1.630066e+18</td>\n",
       "      <td>3.561557e+10</td>\n",
       "      <td>1.630066e+18</td>\n",
       "      <td>1.630066e+18</td>\n",
       "      <td>1.630066e+18</td>\n",
       "      <td>1.630066e+18</td>\n",
       "      <td>1.630066e+18</td>\n",
       "      <td>77574.0</td>\n",
       "      <td>1.620901</td>\n",
       "      <td>1.375973</td>\n",
       "      <td>0.950812</td>\n",
       "      <td>1.414855</td>\n",
       "      <td>1.522892</td>\n",
       "      <td>1.646501</td>\n",
       "      <td>62.830099</td>\n",
       "    </tr>\n",
       "    <tr>\n",
       "      <th>Dapr</th>\n",
       "      <td>77574.0</td>\n",
       "      <td>1.630066e+18</td>\n",
       "      <td>3.561557e+10</td>\n",
       "      <td>1.630066e+18</td>\n",
       "      <td>1.630066e+18</td>\n",
       "      <td>1.630066e+18</td>\n",
       "      <td>1.630066e+18</td>\n",
       "      <td>1.630066e+18</td>\n",
       "      <td>77574.0</td>\n",
       "      <td>1.708796</td>\n",
       "      <td>1.483242</td>\n",
       "      <td>1.093483</td>\n",
       "      <td>1.478202</td>\n",
       "      <td>1.580839</td>\n",
       "      <td>1.699582</td>\n",
       "      <td>63.316462</td>\n",
       "    </tr>\n",
       "    <tr>\n",
       "      <th>Plumber</th>\n",
       "      <td>77574.0</td>\n",
       "      <td>1.630066e+18</td>\n",
       "      <td>3.561557e+10</td>\n",
       "      <td>1.630066e+18</td>\n",
       "      <td>1.630066e+18</td>\n",
       "      <td>1.630066e+18</td>\n",
       "      <td>1.630066e+18</td>\n",
       "      <td>1.630066e+18</td>\n",
       "      <td>77574.0</td>\n",
       "      <td>1.939413</td>\n",
       "      <td>1.493663</td>\n",
       "      <td>1.226340</td>\n",
       "      <td>1.703793</td>\n",
       "      <td>1.811146</td>\n",
       "      <td>1.937261</td>\n",
       "      <td>63.425133</td>\n",
       "    </tr>\n",
       "  </tbody>\n",
       "</table>\n",
       "</div>"
      ],
      "text/plain": [
       "         Begin nano                                                          \\\n",
       "              count          mean           std           min           25%   \n",
       "Platform                                                                      \n",
       "Baseline    77574.0  1.630066e+18  3.561557e+10  1.630066e+18  1.630066e+18   \n",
       "Dapr        77574.0  1.630066e+18  3.561557e+10  1.630066e+18  1.630066e+18   \n",
       "Plumber     77574.0  1.630066e+18  3.561557e+10  1.630066e+18  1.630066e+18   \n",
       "\n",
       "                                                   Latency (ms)            \\\n",
       "                   50%           75%           max        count      mean   \n",
       "Platform                                                                    \n",
       "Baseline  1.630066e+18  1.630066e+18  1.630066e+18      77574.0  1.620901   \n",
       "Dapr      1.630066e+18  1.630066e+18  1.630066e+18      77574.0  1.708796   \n",
       "Plumber   1.630066e+18  1.630066e+18  1.630066e+18      77574.0  1.939413   \n",
       "\n",
       "                                                                       \n",
       "               std       min       25%       50%       75%        max  \n",
       "Platform                                                               \n",
       "Baseline  1.375973  0.950812  1.414855  1.522892  1.646501  62.830099  \n",
       "Dapr      1.483242  1.093483  1.478202  1.580839  1.699582  63.316462  \n",
       "Plumber   1.493663  1.226340  1.703793  1.811146  1.937261  63.425133  "
      ]
     },
     "execution_count": 38,
     "metadata": {},
     "output_type": "execute_result"
    }
   ],
   "source": [
    "df.groupby([\"Platform\"]).describe()"
   ]
  },
  {
   "cell_type": "code",
   "execution_count": 43,
   "metadata": {},
   "outputs": [
    {
     "data": {
      "text/html": [
       "<div>\n",
       "<style scoped>\n",
       "    .dataframe tbody tr th:only-of-type {\n",
       "        vertical-align: middle;\n",
       "    }\n",
       "\n",
       "    .dataframe tbody tr th {\n",
       "        vertical-align: top;\n",
       "    }\n",
       "\n",
       "    .dataframe thead th {\n",
       "        text-align: right;\n",
       "    }\n",
       "</style>\n",
       "<table border=\"1\" class=\"dataframe\">\n",
       "  <thead>\n",
       "    <tr style=\"text-align: right;\">\n",
       "      <th></th>\n",
       "      <th>Begin nano</th>\n",
       "      <th>Latency (ms)</th>\n",
       "    </tr>\n",
       "    <tr>\n",
       "      <th>Platform</th>\n",
       "      <th></th>\n",
       "      <th></th>\n",
       "    </tr>\n",
       "  </thead>\n",
       "  <tbody>\n",
       "    <tr>\n",
       "      <th>Baseline</th>\n",
       "      <td>1.630066e+18</td>\n",
       "      <td>29.406121</td>\n",
       "    </tr>\n",
       "    <tr>\n",
       "      <th>Dapr</th>\n",
       "      <td>1.630066e+18</td>\n",
       "      <td>29.766906</td>\n",
       "    </tr>\n",
       "    <tr>\n",
       "      <th>Plumber</th>\n",
       "      <td>1.630066e+18</td>\n",
       "      <td>30.176646</td>\n",
       "    </tr>\n",
       "  </tbody>\n",
       "</table>\n",
       "</div>"
      ],
      "text/plain": [
       "            Begin nano  Latency (ms)\n",
       "Platform                            \n",
       "Baseline  1.630066e+18     29.406121\n",
       "Dapr      1.630066e+18     29.766906\n",
       "Plumber   1.630066e+18     30.176646"
      ]
     },
     "execution_count": 43,
     "metadata": {},
     "output_type": "execute_result"
    }
   ],
   "source": [
    "df.groupby([\"Platform\"]).quantile(0.9995)"
   ]
  },
  {
   "cell_type": "code",
   "execution_count": 33,
   "metadata": {},
   "outputs": [],
   "source": [
    "outliers = df[df[\"Latency (ms)\"] > 5]\n",
    "outliers = outliers[outliers[\"Latency (ms)\"] < 50]"
   ]
  },
  {
   "cell_type": "code",
   "execution_count": 45,
   "metadata": {},
   "outputs": [
    {
     "data": {
      "image/png": "[encoded data removed]",
      "text/plain": [
       "<Figure size 432x288 with 1 Axes>"
      ]
     },
     "metadata": {
      "needs_background": "light"
     },
     "output_type": "display_data"
    }
   ],
   "source": [
    "\n",
    "ax = sns.violinplot(x=\"Platform\", y=\"Latency (ms)\", data=outliers, order=[\"Baseline\", \"Dapr\", \"Plumber\"])\n",
    "ax.title.set_text('Observations with latencies above 5 ms')\n",
    "plt.savefig(\"vis-latency-outliers-1.png\")"
   ]
  }
 ],
 "metadata": {
  "interpreter": {
   "hash": "916dbcbb3f70747c44a77c7bcd40155683ae19c65e1c03b4aa3499c5328201f1"
  },
  "kernelspec": {
   "display_name": "Python 3.8.10 64-bit",
   "name": "python3"
  },
  "language_info": {
   "codemirror_mode": {
    "name": "ipython",
    "version": 3
   },
   "file_extension": ".py",
   "mimetype": "text/x-python",
   "name": "python",
   "nbconvert_exporter": "python",
   "pygments_lexer": "ipython3",
   "version": "3.8.10"
  },
  "orig_nbformat": 4
 },
 "nbformat": 4,
 "nbformat_minor": 2
}

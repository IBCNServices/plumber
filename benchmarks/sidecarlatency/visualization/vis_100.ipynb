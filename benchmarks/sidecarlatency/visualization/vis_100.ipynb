{
 "cells": [
  {
   "cell_type": "code",
   "execution_count": 9,
   "metadata": {},
   "outputs": [],
   "source": [
    "import pandas as pd\n",
    "import seaborn as sns\n",
    "import matplotlib.pyplot as plt"
   ]
  },
  {
   "cell_type": "code",
   "execution_count": 10,
   "metadata": {},
   "outputs": [],
   "source": [
    "def readFileAsArr(fileName, source):\n",
    "    res = []\n",
    "    file = open('./data/100ms/' + fileName, encoding=\"utf8\").read()\n",
    "    for ind, line in enumerate(file.split('\\n')):\n",
    "        if ind < 100:\n",
    "            continue\n",
    "        if line == '':\n",
    "            continue\n",
    "        splitLine = line.split(\",\")\n",
    "        res.append([source, splitLine[0], splitLine[1], float(splitLine[2])])\n",
    "    return res\n",
    "\n",
    "latencies = readFileAsArr('plumber.txt', 'Plumber')\n",
    "latencies = latencies + readFileAsArr('baseline.txt', 'Baseline')\n",
    "latencies = latencies + readFileAsArr('dapr.txt', 'Dapr')"
   ]
  },
  {
   "cell_type": "code",
   "execution_count": 11,
   "metadata": {},
   "outputs": [],
   "source": [
    "df = pd.DataFrame(latencies, columns=['Platform', 'Begin nano', 'End nano', 'Latency (ms)'])"
   ]
  },
  {
   "cell_type": "code",
   "execution_count": 12,
   "metadata": {},
   "outputs": [
    {
     "data": {
      "text/html": [
       "<div>\n",
       "<style scoped>\n",
       "    .dataframe tbody tr th:only-of-type {\n",
       "        vertical-align: middle;\n",
       "    }\n",
       "\n",
       "    .dataframe tbody tr th {\n",
       "        vertical-align: top;\n",
       "    }\n",
       "\n",
       "    .dataframe thead tr th {\n",
       "        text-align: left;\n",
       "    }\n",
       "\n",
       "    .dataframe thead tr:last-of-type th {\n",
       "        text-align: right;\n",
       "    }\n",
       "</style>\n",
       "<table border=\"1\" class=\"dataframe\">\n",
       "  <thead>\n",
       "    <tr>\n",
       "      <th></th>\n",
       "      <th colspan=\"8\" halign=\"left\">Latency (ms)</th>\n",
       "    </tr>\n",
       "    <tr>\n",
       "      <th></th>\n",
       "      <th>count</th>\n",
       "      <th>mean</th>\n",
       "      <th>std</th>\n",
       "      <th>min</th>\n",
       "      <th>25%</th>\n",
       "      <th>50%</th>\n",
       "      <th>75%</th>\n",
       "      <th>max</th>\n",
       "    </tr>\n",
       "    <tr>\n",
       "      <th>Platform</th>\n",
       "      <th></th>\n",
       "      <th></th>\n",
       "      <th></th>\n",
       "      <th></th>\n",
       "      <th></th>\n",
       "      <th></th>\n",
       "      <th></th>\n",
       "      <th></th>\n",
       "    </tr>\n",
       "  </thead>\n",
       "  <tbody>\n",
       "    <tr>\n",
       "      <th>Baseline</th>\n",
       "      <td>10436.0</td>\n",
       "      <td>2.537011</td>\n",
       "      <td>4.404079</td>\n",
       "      <td>1.585248</td>\n",
       "      <td>2.150949</td>\n",
       "      <td>2.316635</td>\n",
       "      <td>2.501281</td>\n",
       "      <td>338.513705</td>\n",
       "    </tr>\n",
       "    <tr>\n",
       "      <th>Dapr</th>\n",
       "      <td>10436.0</td>\n",
       "      <td>2.811304</td>\n",
       "      <td>4.447768</td>\n",
       "      <td>1.780162</td>\n",
       "      <td>2.395728</td>\n",
       "      <td>2.574313</td>\n",
       "      <td>2.776509</td>\n",
       "      <td>338.587615</td>\n",
       "    </tr>\n",
       "    <tr>\n",
       "      <th>Plumber</th>\n",
       "      <td>10436.0</td>\n",
       "      <td>3.009134</td>\n",
       "      <td>5.052892</td>\n",
       "      <td>1.896680</td>\n",
       "      <td>2.558203</td>\n",
       "      <td>2.726625</td>\n",
       "      <td>2.934326</td>\n",
       "      <td>339.116577</td>\n",
       "    </tr>\n",
       "  </tbody>\n",
       "</table>\n",
       "</div>"
      ],
      "text/plain": [
       "         Latency (ms)                                                    \\\n",
       "                count      mean       std       min       25%       50%   \n",
       "Platform                                                                  \n",
       "Baseline      10436.0  2.537011  4.404079  1.585248  2.150949  2.316635   \n",
       "Dapr          10436.0  2.811304  4.447768  1.780162  2.395728  2.574313   \n",
       "Plumber       10436.0  3.009134  5.052892  1.896680  2.558203  2.726625   \n",
       "\n",
       "                                \n",
       "               75%         max  \n",
       "Platform                        \n",
       "Baseline  2.501281  338.513705  \n",
       "Dapr      2.776509  338.587615  \n",
       "Plumber   2.934326  339.116577  "
      ]
     },
     "execution_count": 12,
     "metadata": {},
     "output_type": "execute_result"
    }
   ],
   "source": [
    "df.groupby([\"Platform\"]).describe()\n"
   ]
  },
  {
   "cell_type": "code",
   "execution_count": 13,
   "metadata": {},
   "outputs": [
    {
     "data": {
      "text/html": [
       "<div>\n",
       "<style scoped>\n",
       "    .dataframe tbody tr th:only-of-type {\n",
       "        vertical-align: middle;\n",
       "    }\n",
       "\n",
       "    .dataframe tbody tr th {\n",
       "        vertical-align: top;\n",
       "    }\n",
       "\n",
       "    .dataframe thead th {\n",
       "        text-align: right;\n",
       "    }\n",
       "</style>\n",
       "<table border=\"1\" class=\"dataframe\">\n",
       "  <thead>\n",
       "    <tr style=\"text-align: right;\">\n",
       "      <th></th>\n",
       "      <th>Platform</th>\n",
       "      <th>Begin nano</th>\n",
       "      <th>End nano</th>\n",
       "      <th>Latency (ms)</th>\n",
       "    </tr>\n",
       "  </thead>\n",
       "  <tbody>\n",
       "    <tr>\n",
       "      <th>0</th>\n",
       "      <td>Plumber</td>\n",
       "      <td>1630055816324017379</td>\n",
       "      <td>1630055816326649721</td>\n",
       "      <td>2.632342</td>\n",
       "    </tr>\n",
       "    <tr>\n",
       "      <th>1</th>\n",
       "      <td>Plumber</td>\n",
       "      <td>1630055816425055254</td>\n",
       "      <td>1630055816427789602</td>\n",
       "      <td>2.734348</td>\n",
       "    </tr>\n",
       "    <tr>\n",
       "      <th>2</th>\n",
       "      <td>Plumber</td>\n",
       "      <td>1630055816526000199</td>\n",
       "      <td>1630055816528568661</td>\n",
       "      <td>2.568462</td>\n",
       "    </tr>\n",
       "    <tr>\n",
       "      <th>3</th>\n",
       "      <td>Plumber</td>\n",
       "      <td>1630055816626830561</td>\n",
       "      <td>1630055816629534285</td>\n",
       "      <td>2.703724</td>\n",
       "    </tr>\n",
       "    <tr>\n",
       "      <th>4</th>\n",
       "      <td>Plumber</td>\n",
       "      <td>1630055816727875716</td>\n",
       "      <td>1630055816730917158</td>\n",
       "      <td>3.041442</td>\n",
       "    </tr>\n",
       "  </tbody>\n",
       "</table>\n",
       "</div>"
      ],
      "text/plain": [
       "  Platform           Begin nano             End nano  Latency (ms)\n",
       "0  Plumber  1630055816324017379  1630055816326649721      2.632342\n",
       "1  Plumber  1630055816425055254  1630055816427789602      2.734348\n",
       "2  Plumber  1630055816526000199  1630055816528568661      2.568462\n",
       "3  Plumber  1630055816626830561  1630055816629534285      2.703724\n",
       "4  Plumber  1630055816727875716  1630055816730917158      3.041442"
      ]
     },
     "execution_count": 13,
     "metadata": {},
     "output_type": "execute_result"
    }
   ],
   "source": [
    "df.head()"
   ]
  },
  {
   "cell_type": "code",
   "execution_count": 14,
   "metadata": {},
   "outputs": [
    {
     "data": {
      "text/plain": [
       "<seaborn.axisgrid.FacetGrid at 0x7f433079baf0>"
      ]
     },
     "execution_count": 14,
     "metadata": {},
     "output_type": "execute_result"
    },
    {
     "data": {
      "image/png": "[encoded data removed]",
      "text/plain": [
       "<Figure size 438.625x360 with 1 Axes>"
      ]
     },
     "metadata": {
      "needs_background": "light"
     },
     "output_type": "display_data"
    }
   ],
   "source": [
    "sns.displot(df, x=\"Latency (ms)\", hue=\"Platform\", kind=\"kde\", fill=True)"
   ]
  },
  {
   "cell_type": "code",
   "execution_count": 15,
   "metadata": {},
   "outputs": [
    {
     "data": {
      "text/html": [
       "<div>\n",
       "<style scoped>\n",
       "    .dataframe tbody tr th:only-of-type {\n",
       "        vertical-align: middle;\n",
       "    }\n",
       "\n",
       "    .dataframe tbody tr th {\n",
       "        vertical-align: top;\n",
       "    }\n",
       "\n",
       "    .dataframe thead th {\n",
       "        text-align: right;\n",
       "    }\n",
       "</style>\n",
       "<table border=\"1\" class=\"dataframe\">\n",
       "  <thead>\n",
       "    <tr style=\"text-align: right;\">\n",
       "      <th></th>\n",
       "      <th>Latency (ms)</th>\n",
       "    </tr>\n",
       "  </thead>\n",
       "  <tbody>\n",
       "    <tr>\n",
       "      <th>count</th>\n",
       "      <td>31308.000000</td>\n",
       "    </tr>\n",
       "    <tr>\n",
       "      <th>mean</th>\n",
       "      <td>2.785816</td>\n",
       "    </tr>\n",
       "    <tr>\n",
       "      <th>std</th>\n",
       "      <td>4.648245</td>\n",
       "    </tr>\n",
       "    <tr>\n",
       "      <th>min</th>\n",
       "      <td>1.585248</td>\n",
       "    </tr>\n",
       "    <tr>\n",
       "      <th>25%</th>\n",
       "      <td>2.335184</td>\n",
       "    </tr>\n",
       "    <tr>\n",
       "      <th>50%</th>\n",
       "      <td>2.548874</td>\n",
       "    </tr>\n",
       "    <tr>\n",
       "      <th>75%</th>\n",
       "      <td>2.772690</td>\n",
       "    </tr>\n",
       "    <tr>\n",
       "      <th>max</th>\n",
       "      <td>339.116577</td>\n",
       "    </tr>\n",
       "  </tbody>\n",
       "</table>\n",
       "</div>"
      ],
      "text/plain": [
       "       Latency (ms)\n",
       "count  31308.000000\n",
       "mean       2.785816\n",
       "std        4.648245\n",
       "min        1.585248\n",
       "25%        2.335184\n",
       "50%        2.548874\n",
       "75%        2.772690\n",
       "max      339.116577"
      ]
     },
     "execution_count": 15,
     "metadata": {},
     "output_type": "execute_result"
    }
   ],
   "source": [
    "df.describe()"
   ]
  },
  {
   "cell_type": "code",
   "execution_count": 16,
   "metadata": {},
   "outputs": [
    {
     "data": {
      "text/plain": [
       "<AxesSubplot:xlabel='Platform', ylabel='Latency (ms)'>"
      ]
     },
     "execution_count": 16,
     "metadata": {},
     "output_type": "execute_result"
    },
    {
     "data": {
      "image/png": "[encoded data removed]",
      "text/plain": [
       "<Figure size 432x288 with 1 Axes>"
      ]
     },
     "metadata": {
      "needs_background": "light"
     },
     "output_type": "display_data"
    }
   ],
   "source": [
    "sns.boxplot(data=df, x=\"Platform\", y=\"Latency (ms)\")"
   ]
  },
  {
   "cell_type": "code",
   "execution_count": 17,
   "metadata": {},
   "outputs": [
    {
     "data": {
      "text/plain": [
       "<seaborn.axisgrid.FacetGrid at 0x7f41fdc20e20>"
      ]
     },
     "execution_count": 17,
     "metadata": {},
     "output_type": "execute_result"
    },
    {
     "data": {
      "image/png": "[encoded data removed]",
      "text/plain": [
       "<Figure size 438.625x360 with 1 Axes>"
      ]
     },
     "metadata": {
      "needs_background": "light"
     },
     "output_type": "display_data"
    }
   ],
   "source": [
    "sns.displot(df, x=\"Latency (ms)\", hue=\"Platform\", kind=\"kde\", fill=True, log_scale=True)"
   ]
  },
  {
   "cell_type": "code",
   "execution_count": 18,
   "metadata": {},
   "outputs": [
    {
     "data": {
      "text/plain": [
       "<AxesSubplot:xlabel='Latency (ms)', ylabel='Proportion'>"
      ]
     },
     "execution_count": 18,
     "metadata": {},
     "output_type": "execute_result"
    },
    {
     "data": {
      "image/png": "[encoded data removed]",
      "text/plain": [
       "<Figure size 432x288 with 1 Axes>"
      ]
     },
     "metadata": {
      "needs_background": "light"
     },
     "output_type": "display_data"
    }
   ],
   "source": [
    "sns.ecdfplot(data=df, x=\"Latency (ms)\", hue=\"Platform\", log_scale=True)"
   ]
  },
  {
   "cell_type": "code",
   "execution_count": 19,
   "metadata": {},
   "outputs": [
    {
     "data": {
      "text/plain": [
       "(31308, 4)"
      ]
     },
     "execution_count": 19,
     "metadata": {},
     "output_type": "execute_result"
    }
   ],
   "source": [
    "df.shape"
   ]
  },
  {
   "cell_type": "code",
   "execution_count": 20,
   "metadata": {},
   "outputs": [
    {
     "name": "stdout",
     "output_type": "stream",
     "text": [
      "Plumber\n",
      "(10436, 4)\n",
      "(10229, 4)\n",
      "Baseline\n",
      "(10436, 4)\n",
      "(10281, 4)\n",
      "Dapr\n",
      "(10436, 4)\n",
      "(10243, 4)\n"
     ]
    },
    {
     "name": "stderr",
     "output_type": "stream",
     "text": [
      "<ipython-input-20-cb4ad0cf4b78>:10: UserWarning: Boolean Series key will be reindexed to match DataFrame index.\n",
      "  df_plat = df_plat[~((df[\"Latency (ms)\"] < (q1 - 1.5 * iqr)) | (df[\"Latency (ms)\"] > (q3 + 1.5 * iqr)))].reset_index(drop=True)\n",
      "<ipython-input-20-cb4ad0cf4b78>:10: UserWarning: Boolean Series key will be reindexed to match DataFrame index.\n",
      "  df_plat = df_plat[~((df[\"Latency (ms)\"] < (q1 - 1.5 * iqr)) | (df[\"Latency (ms)\"] > (q3 + 1.5 * iqr)))].reset_index(drop=True)\n",
      "<ipython-input-20-cb4ad0cf4b78>:10: UserWarning: Boolean Series key will be reindexed to match DataFrame index.\n",
      "  df_plat = df_plat[~((df[\"Latency (ms)\"] < (q1 - 1.5 * iqr)) | (df[\"Latency (ms)\"] > (q3 + 1.5 * iqr)))].reset_index(drop=True)\n"
     ]
    }
   ],
   "source": [
    "# Obvious issue with outliers for visualizations: remove them through IQR method\n",
    "plat_dfs = []\n",
    "for plat in df[\"Platform\"].unique():\n",
    "    print(plat)\n",
    "    df_plat = df[df[\"Platform\"] == plat]\n",
    "    q1 = df_plat.quantile(0.25)[\"Latency (ms)\"]\n",
    "    q3 = df_plat.quantile(0.75)[\"Latency (ms)\"]\n",
    "    iqr = q3 - q1\n",
    "    print(df_plat.shape)\n",
    "    df_plat = df_plat[~((df[\"Latency (ms)\"] < (q1 - 1.5 * iqr)) | (df[\"Latency (ms)\"] > (q3 + 1.5 * iqr)))].reset_index(drop=True)\n",
    "    print(df_plat.shape)\n",
    "    plat_dfs.append(df_plat)\n",
    "\n",
    "filtered_df = pd.concat(plat_dfs)\n"
   ]
  },
  {
   "cell_type": "code",
   "execution_count": 21,
   "metadata": {},
   "outputs": [
    {
     "data": {
      "text/html": [
       "<div>\n",
       "<style scoped>\n",
       "    .dataframe tbody tr th:only-of-type {\n",
       "        vertical-align: middle;\n",
       "    }\n",
       "\n",
       "    .dataframe tbody tr th {\n",
       "        vertical-align: top;\n",
       "    }\n",
       "\n",
       "    .dataframe thead tr th {\n",
       "        text-align: left;\n",
       "    }\n",
       "\n",
       "    .dataframe thead tr:last-of-type th {\n",
       "        text-align: right;\n",
       "    }\n",
       "</style>\n",
       "<table border=\"1\" class=\"dataframe\">\n",
       "  <thead>\n",
       "    <tr>\n",
       "      <th></th>\n",
       "      <th colspan=\"8\" halign=\"left\">Latency (ms)</th>\n",
       "    </tr>\n",
       "    <tr>\n",
       "      <th></th>\n",
       "      <th>count</th>\n",
       "      <th>mean</th>\n",
       "      <th>std</th>\n",
       "      <th>min</th>\n",
       "      <th>25%</th>\n",
       "      <th>50%</th>\n",
       "      <th>75%</th>\n",
       "      <th>max</th>\n",
       "    </tr>\n",
       "    <tr>\n",
       "      <th>Platform</th>\n",
       "      <th></th>\n",
       "      <th></th>\n",
       "      <th></th>\n",
       "      <th></th>\n",
       "      <th></th>\n",
       "      <th></th>\n",
       "      <th></th>\n",
       "      <th></th>\n",
       "    </tr>\n",
       "  </thead>\n",
       "  <tbody>\n",
       "    <tr>\n",
       "      <th>Baseline</th>\n",
       "      <td>10281.0</td>\n",
       "      <td>2.326162</td>\n",
       "      <td>0.245677</td>\n",
       "      <td>1.625808</td>\n",
       "      <td>2.148204</td>\n",
       "      <td>2.311008</td>\n",
       "      <td>2.491628</td>\n",
       "      <td>3.026375</td>\n",
       "    </tr>\n",
       "    <tr>\n",
       "      <th>Dapr</th>\n",
       "      <td>10243.0</td>\n",
       "      <td>2.585940</td>\n",
       "      <td>0.266245</td>\n",
       "      <td>1.867550</td>\n",
       "      <td>2.391593</td>\n",
       "      <td>2.568492</td>\n",
       "      <td>2.762238</td>\n",
       "      <td>3.347370</td>\n",
       "    </tr>\n",
       "    <tr>\n",
       "      <th>Plumber</th>\n",
       "      <td>10229.0</td>\n",
       "      <td>2.742516</td>\n",
       "      <td>0.258257</td>\n",
       "      <td>2.031876</td>\n",
       "      <td>2.554902</td>\n",
       "      <td>2.719901</td>\n",
       "      <td>2.920478</td>\n",
       "      <td>3.495572</td>\n",
       "    </tr>\n",
       "  </tbody>\n",
       "</table>\n",
       "</div>"
      ],
      "text/plain": [
       "         Latency (ms)                                                    \\\n",
       "                count      mean       std       min       25%       50%   \n",
       "Platform                                                                  \n",
       "Baseline      10281.0  2.326162  0.245677  1.625808  2.148204  2.311008   \n",
       "Dapr          10243.0  2.585940  0.266245  1.867550  2.391593  2.568492   \n",
       "Plumber       10229.0  2.742516  0.258257  2.031876  2.554902  2.719901   \n",
       "\n",
       "                              \n",
       "               75%       max  \n",
       "Platform                      \n",
       "Baseline  2.491628  3.026375  \n",
       "Dapr      2.762238  3.347370  \n",
       "Plumber   2.920478  3.495572  "
      ]
     },
     "execution_count": 21,
     "metadata": {},
     "output_type": "execute_result"
    }
   ],
   "source": [
    "filtered_df.groupby([\"Platform\"]).describe()"
   ]
  },
  {
   "cell_type": "code",
   "execution_count": 22,
   "metadata": {},
   "outputs": [],
   "source": [
    "# preprocessing for catplot\n",
    "df_metrics = pd.DataFrame(columns=[\"Metric\", \"Platform\", \"Latency (ms)\"])\n",
    "for plat in df[\"Platform\"].unique():\n",
    "    plat_df = df[df[\"Platform\"] == plat]\n",
    "    df_metrics = df_metrics.append({\"Metric\": \"Median\", \"Platform\": plat, \"Latency (ms)\": plat_df.quantile(0.5)[\"Latency (ms)\"]}, ignore_index=True) \n",
    "    df_metrics = df_metrics.append({\"Metric\": \"90th Percentile\", \"Platform\": plat, \"Latency (ms)\": plat_df.quantile(0.9)[\"Latency (ms)\"]}, ignore_index=True) \n",
    "    df_metrics = df_metrics.append({\"Metric\": \"99th Percentile\", \"Platform\": plat, \"Latency (ms)\": plat_df.quantile(0.99)[\"Latency (ms)\"]}, ignore_index=True) "
   ]
  },
  {
   "cell_type": "code",
   "execution_count": 23,
   "metadata": {},
   "outputs": [
    {
     "data": {
      "image/png": "[encoded data removed]",
      "text/plain": [
       "<Figure size 1080x576 with 3 Axes>"
      ]
     },
     "metadata": {
      "needs_background": "light"
     },
     "output_type": "display_data"
    }
   ],
   "source": [
    "\n",
    "f, axes = plt.subplots(1, 3, figsize=(15,8))\n",
    "h_order = [\"Baseline\", \"Dapr\", \"Plumber\"]\n",
    "sns.kdeplot(data=filtered_df, x=\"Latency (ms)\", hue=\"Platform\", fill=True, ax=axes[0], hue_order=h_order)\n",
    "sns.ecdfplot(data=filtered_df, x=\"Latency (ms)\", hue=\"Platform\", ax=axes[1], hue_order=h_order)\n",
    "sns.barplot(\n",
    "    data=df_metrics,\n",
    "    x=\"Metric\", y=\"Latency (ms)\", hue=\"Platform\",\n",
    "    hue_order=h_order,\n",
    "    ax = axes[2]\n",
    ")\n",
    "\n",
    "axes[0].title.set_text('Latency distributions (kde, outliers filtered)')\n",
    "axes[1].title.set_text('Latency distributions (ecdf, outliers filtered)')\n",
    "axes[2].title.set_text('Significant latency percentiles (outliers not filtered)')\n",
    "\n",
    "\n",
    "def add_value_labels(ax, spacing=3):\n",
    "    \"\"\"Add labels to the end of each bar in a bar chart.\n",
    "\n",
    "    Arguments:\n",
    "        ax (matplotlib.axes.Axes): The matplotlib object containing the axes\n",
    "            of the plot to annotate.\n",
    "        spacing (int): The distance between the labels and the bars.\n",
    "    \"\"\"\n",
    "\n",
    "    # For each bar: Place a label\n",
    "    for rect in ax.patches:\n",
    "        # Get X and Y placement of label from rect.\n",
    "        y_value = rect.get_height()\n",
    "        x_value = rect.get_x() + rect.get_width() / 2\n",
    "\n",
    "        # Number of points between bar and label. Change to your liking.\n",
    "        space = spacing\n",
    "        # Vertical alignment for positive values\n",
    "        va = 'bottom'\n",
    "\n",
    "        # If value of bar is negative: Place label below bar\n",
    "        if y_value < 0:\n",
    "            # Invert space to place label below\n",
    "            space *= -1\n",
    "            # Vertically align label at top\n",
    "            va = 'top'\n",
    "\n",
    "        # Use Y value as label and format number with one decimal place\n",
    "        label = \"{:.2f}\".format(y_value)\n",
    "\n",
    "        # Create annotation\n",
    "        ax.annotate(\n",
    "            label,                      # Use `label` as label\n",
    "            (x_value, y_value),         # Place label at end of the bar\n",
    "            xytext=(0, space),          # Vertically shift label by `space`\n",
    "            textcoords=\"offset points\", # Interpret `xytext` as offset in points\n",
    "            ha='center',                # Horizontally center label\n",
    "            va=va)                      # Vertically align label differently for\n",
    "                                        # positive and negative values.\n",
    "\n",
    "\n",
    "# Call the function above. All the magic happens there.\n",
    "add_value_labels(axes[2])\n",
    "\n",
    "plt.savefig(\"vis-latency-distrs.png\")\n"
   ]
  },
  {
   "cell_type": "code",
   "execution_count": 24,
   "metadata": {},
   "outputs": [
    {
     "data": {
      "text/plain": [
       "9.880078976150187"
      ]
     },
     "execution_count": 24,
     "metadata": {},
     "output_type": "execute_result"
    }
   ],
   "source": [
    "df = df.astype({'Begin nano': 'int64'})\n",
    "delta_s = (df[\"Begin nano\"].max() - df[\"Begin nano\"].min()) / 1_000_000_000\n",
    "tot_messages = len(df.index) / 3\n",
    "tot_messages / delta_s"
   ]
  },
  {
   "cell_type": "code",
   "execution_count": 25,
   "metadata": {},
   "outputs": [
    {
     "data": {
      "text/html": [
       "<div>\n",
       "<style scoped>\n",
       "    .dataframe tbody tr th:only-of-type {\n",
       "        vertical-align: middle;\n",
       "    }\n",
       "\n",
       "    .dataframe tbody tr th {\n",
       "        vertical-align: top;\n",
       "    }\n",
       "\n",
       "    .dataframe thead th {\n",
       "        text-align: right;\n",
       "    }\n",
       "</style>\n",
       "<table border=\"1\" class=\"dataframe\">\n",
       "  <thead>\n",
       "    <tr style=\"text-align: right;\">\n",
       "      <th></th>\n",
       "      <th>Begin nano</th>\n",
       "      <th>Latency (ms)</th>\n",
       "    </tr>\n",
       "    <tr>\n",
       "      <th>Platform</th>\n",
       "      <th></th>\n",
       "      <th></th>\n",
       "    </tr>\n",
       "  </thead>\n",
       "  <tbody>\n",
       "    <tr>\n",
       "      <th>Baseline</th>\n",
       "      <td>2.985701e+09</td>\n",
       "      <td>0.043111</td>\n",
       "    </tr>\n",
       "    <tr>\n",
       "      <th>Dapr</th>\n",
       "      <td>2.985701e+09</td>\n",
       "      <td>0.043539</td>\n",
       "    </tr>\n",
       "    <tr>\n",
       "      <th>Plumber</th>\n",
       "      <td>2.985701e+09</td>\n",
       "      <td>0.049462</td>\n",
       "    </tr>\n",
       "  </tbody>\n",
       "</table>\n",
       "</div>"
      ],
      "text/plain": [
       "            Begin nano  Latency (ms)\n",
       "Platform                            \n",
       "Baseline  2.985701e+09      0.043111\n",
       "Dapr      2.985701e+09      0.043539\n",
       "Plumber   2.985701e+09      0.049462"
      ]
     },
     "execution_count": 25,
     "metadata": {},
     "output_type": "execute_result"
    }
   ],
   "source": [
    "df.groupby([\"Platform\"]).sem()"
   ]
  },
  {
   "cell_type": "code",
   "execution_count": 36,
   "metadata": {},
   "outputs": [
    {
     "data": {
      "text/html": [
       "<div>\n",
       "<style scoped>\n",
       "    .dataframe tbody tr th:only-of-type {\n",
       "        vertical-align: middle;\n",
       "    }\n",
       "\n",
       "    .dataframe tbody tr th {\n",
       "        vertical-align: top;\n",
       "    }\n",
       "\n",
       "    .dataframe thead th {\n",
       "        text-align: right;\n",
       "    }\n",
       "</style>\n",
       "<table border=\"1\" class=\"dataframe\">\n",
       "  <thead>\n",
       "    <tr style=\"text-align: right;\">\n",
       "      <th></th>\n",
       "      <th>Begin nano</th>\n",
       "      <th>Latency (ms)</th>\n",
       "    </tr>\n",
       "    <tr>\n",
       "      <th>Platform</th>\n",
       "      <th></th>\n",
       "      <th></th>\n",
       "    </tr>\n",
       "  </thead>\n",
       "  <tbody>\n",
       "    <tr>\n",
       "      <th>Baseline</th>\n",
       "      <td>1.630057e+18</td>\n",
       "      <td>67.555576</td>\n",
       "    </tr>\n",
       "    <tr>\n",
       "      <th>Dapr</th>\n",
       "      <td>1.630057e+18</td>\n",
       "      <td>67.738376</td>\n",
       "    </tr>\n",
       "    <tr>\n",
       "      <th>Plumber</th>\n",
       "      <td>1.630057e+18</td>\n",
       "      <td>75.468818</td>\n",
       "    </tr>\n",
       "  </tbody>\n",
       "</table>\n",
       "</div>"
      ],
      "text/plain": [
       "            Begin nano  Latency (ms)\n",
       "Platform                            \n",
       "Baseline  1.630057e+18     67.555576\n",
       "Dapr      1.630057e+18     67.738376\n",
       "Plumber   1.630057e+18     75.468818"
      ]
     },
     "execution_count": 36,
     "metadata": {},
     "output_type": "execute_result"
    }
   ],
   "source": [
    "df.groupby([\"Platform\"]).quantile(0.9995)"
   ]
  },
  {
   "cell_type": "code",
   "execution_count": 29,
   "metadata": {},
   "outputs": [],
   "source": [
    "outliers = df[(df[\"Latency (ms)\"] > 5)]\n",
    "# filter the 99.99th percentile outliers as they ruin the later visualization\n",
    "outliers = outliers[outliers[\"Latency (ms)\"] < 100]\n"
   ]
  },
  {
   "cell_type": "code",
   "execution_count": 30,
   "metadata": {},
   "outputs": [
    {
     "data": {
      "text/html": [
       "<div>\n",
       "<style scoped>\n",
       "    .dataframe tbody tr th:only-of-type {\n",
       "        vertical-align: middle;\n",
       "    }\n",
       "\n",
       "    .dataframe tbody tr th {\n",
       "        vertical-align: top;\n",
       "    }\n",
       "\n",
       "    .dataframe thead tr th {\n",
       "        text-align: left;\n",
       "    }\n",
       "\n",
       "    .dataframe thead tr:last-of-type th {\n",
       "        text-align: right;\n",
       "    }\n",
       "</style>\n",
       "<table border=\"1\" class=\"dataframe\">\n",
       "  <thead>\n",
       "    <tr>\n",
       "      <th></th>\n",
       "      <th colspan=\"8\" halign=\"left\">Begin nano</th>\n",
       "      <th colspan=\"8\" halign=\"left\">Latency (ms)</th>\n",
       "    </tr>\n",
       "    <tr>\n",
       "      <th></th>\n",
       "      <th>count</th>\n",
       "      <th>mean</th>\n",
       "      <th>std</th>\n",
       "      <th>min</th>\n",
       "      <th>25%</th>\n",
       "      <th>50%</th>\n",
       "      <th>75%</th>\n",
       "      <th>max</th>\n",
       "      <th>count</th>\n",
       "      <th>mean</th>\n",
       "      <th>std</th>\n",
       "      <th>min</th>\n",
       "      <th>25%</th>\n",
       "      <th>50%</th>\n",
       "      <th>75%</th>\n",
       "      <th>max</th>\n",
       "    </tr>\n",
       "    <tr>\n",
       "      <th>Platform</th>\n",
       "      <th></th>\n",
       "      <th></th>\n",
       "      <th></th>\n",
       "      <th></th>\n",
       "      <th></th>\n",
       "      <th></th>\n",
       "      <th></th>\n",
       "      <th></th>\n",
       "      <th></th>\n",
       "      <th></th>\n",
       "      <th></th>\n",
       "      <th></th>\n",
       "      <th></th>\n",
       "      <th></th>\n",
       "      <th></th>\n",
       "      <th></th>\n",
       "    </tr>\n",
       "  </thead>\n",
       "  <tbody>\n",
       "    <tr>\n",
       "      <th>Baseline</th>\n",
       "      <td>46.0</td>\n",
       "      <td>1.630056e+18</td>\n",
       "      <td>2.823606e+11</td>\n",
       "      <td>1.630056e+18</td>\n",
       "      <td>1.630056e+18</td>\n",
       "      <td>1.630056e+18</td>\n",
       "      <td>1.630056e+18</td>\n",
       "      <td>1.630057e+18</td>\n",
       "      <td>46.0</td>\n",
       "      <td>35.970203</td>\n",
       "      <td>18.745891</td>\n",
       "      <td>6.062016</td>\n",
       "      <td>16.706975</td>\n",
       "      <td>38.483281</td>\n",
       "      <td>51.170367</td>\n",
       "      <td>75.170847</td>\n",
       "    </tr>\n",
       "    <tr>\n",
       "      <th>Dapr</th>\n",
       "      <td>56.0</td>\n",
       "      <td>1.630056e+18</td>\n",
       "      <td>2.854218e+11</td>\n",
       "      <td>1.630056e+18</td>\n",
       "      <td>1.630056e+18</td>\n",
       "      <td>1.630056e+18</td>\n",
       "      <td>1.630057e+18</td>\n",
       "      <td>1.630057e+18</td>\n",
       "      <td>56.0</td>\n",
       "      <td>32.472148</td>\n",
       "      <td>19.996973</td>\n",
       "      <td>5.100514</td>\n",
       "      <td>14.263616</td>\n",
       "      <td>34.985560</td>\n",
       "      <td>50.028954</td>\n",
       "      <td>76.085546</td>\n",
       "    </tr>\n",
       "    <tr>\n",
       "      <th>Plumber</th>\n",
       "      <td>56.0</td>\n",
       "      <td>1.630056e+18</td>\n",
       "      <td>2.860777e+11</td>\n",
       "      <td>1.630056e+18</td>\n",
       "      <td>1.630056e+18</td>\n",
       "      <td>1.630056e+18</td>\n",
       "      <td>1.630057e+18</td>\n",
       "      <td>1.630057e+18</td>\n",
       "      <td>56.0</td>\n",
       "      <td>34.419963</td>\n",
       "      <td>19.694978</td>\n",
       "      <td>5.005412</td>\n",
       "      <td>16.100556</td>\n",
       "      <td>37.690863</td>\n",
       "      <td>50.942270</td>\n",
       "      <td>75.892214</td>\n",
       "    </tr>\n",
       "  </tbody>\n",
       "</table>\n",
       "</div>"
      ],
      "text/plain": [
       "         Begin nano                                                          \\\n",
       "              count          mean           std           min           25%   \n",
       "Platform                                                                      \n",
       "Baseline       46.0  1.630056e+18  2.823606e+11  1.630056e+18  1.630056e+18   \n",
       "Dapr           56.0  1.630056e+18  2.854218e+11  1.630056e+18  1.630056e+18   \n",
       "Plumber        56.0  1.630056e+18  2.860777e+11  1.630056e+18  1.630056e+18   \n",
       "\n",
       "                                                   Latency (ms)             \\\n",
       "                   50%           75%           max        count       mean   \n",
       "Platform                                                                     \n",
       "Baseline  1.630056e+18  1.630056e+18  1.630057e+18         46.0  35.970203   \n",
       "Dapr      1.630056e+18  1.630057e+18  1.630057e+18         56.0  32.472148   \n",
       "Plumber   1.630056e+18  1.630057e+18  1.630057e+18         56.0  34.419963   \n",
       "\n",
       "                                                                           \n",
       "                std       min        25%        50%        75%        max  \n",
       "Platform                                                                   \n",
       "Baseline  18.745891  6.062016  16.706975  38.483281  51.170367  75.170847  \n",
       "Dapr      19.996973  5.100514  14.263616  34.985560  50.028954  76.085546  \n",
       "Plumber   19.694978  5.005412  16.100556  37.690863  50.942270  75.892214  "
      ]
     },
     "execution_count": 30,
     "metadata": {},
     "output_type": "execute_result"
    }
   ],
   "source": [
    "outliers.groupby(\"Platform\").describe()"
   ]
  },
  {
   "cell_type": "code",
   "execution_count": 37,
   "metadata": {},
   "outputs": [
    {
     "data": {
      "image/png": "[encoded data removed]",
      "text/plain": [
       "<Figure size 432x288 with 1 Axes>"
      ]
     },
     "metadata": {
      "needs_background": "light"
     },
     "output_type": "display_data"
    }
   ],
   "source": [
    "ax = sns.violinplot(x=\"Platform\", y=\"Latency (ms)\", data=outliers, order=[\"Baseline\", \"Dapr\", \"Plumber\"])\n",
    "ax.title.set_text('Observations with latencies above 5 ms')\n",
    "plt.savefig(\"vis-latency-outliers-100.png\")"
   ]
  }
 ],
 "metadata": {
  "interpreter": {
   "hash": "916dbcbb3f70747c44a77c7bcd40155683ae19c65e1c03b4aa3499c5328201f1"
  },
  "kernelspec": {
   "display_name": "Python 3.8.10 64-bit",
   "name": "python3"
  },
  "language_info": {
   "codemirror_mode": {
    "name": "ipython",
    "version": 3
   },
   "file_extension": ".py",
   "mimetype": "text/x-python",
   "name": "python",
   "nbconvert_exporter": "python",
   "pygments_lexer": "ipython3",
   "version": "3.8.10"
  },
  "orig_nbformat": 4
 },
 "nbformat": 4,
 "nbformat_minor": 2
}
